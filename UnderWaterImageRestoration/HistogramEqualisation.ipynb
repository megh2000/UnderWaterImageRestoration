{
 "cells": [
  {
   "cell_type": "code",
   "execution_count": 2,
   "id": "treated-apollo",
   "metadata": {},
   "outputs": [],
   "source": [
    "#Import required Image library\n",
    "from PIL import Image"
   ]
  },
  {
   "cell_type": "code",
   "execution_count": 5,
   "id": "frank-feature",
   "metadata": {},
   "outputs": [],
   "source": [
    "#Create an Image Object from an Image\n",
    "im = Image.open(\"uw-images/sea1.jpeg\")\n",
    "#http://localhost:8888/view/Desktop/UW-Image-Restoration/underwaterimages-Copy1.jpeg\n",
    "\n",
    "#Display actual image\n",
    "im.show()\n",
    "\n",
    "#Make the new image half the width and half the height of the original image\n",
    "resized_im = im.resize((256,256))\n",
    "\n",
    "#Display the resized imaged\n",
    "resized_im.show()\n",
    "\n",
    "#Save the cropped image\n",
    "resized_im.save('sea1-resized.jpeg')\n"
   ]
  },
  {
   "cell_type": "code",
   "execution_count": 1,
   "id": "varied-australian",
   "metadata": {},
   "outputs": [],
   "source": [
    "import cv2"
   ]
  },
  {
   "cell_type": "code",
   "execution_count": null,
   "id": "selected-computer",
   "metadata": {},
   "outputs": [],
   "source": [
    "image = cv2.imread(\"uw-images/sea1.jpeg\")\n",
    "\n",
    "\n",
    "resized_image=cv2.resize(image,(256,256))\n",
    "\n",
    "hsvImage = cv2.cvtColor(resized_image, cv2.COLOR_BGR2HSV)\n",
    "\n",
    "cv2.imshow(\"Original image\",image)\n",
    "cv2.imshow('RGB image',resized_image)\n",
    "cv2.imshow('HSV image', hsvImage)\n",
    "\n",
    "   \n",
    "cv2.waitKey(0)\n",
    "cv2.destroyAllWindows()"
   ]
  },
  {
   "cell_type": "code",
   "execution_count": null,
   "id": "invalid-knowing",
   "metadata": {},
   "outputs": [],
   "source": []
  }
 ],
 "metadata": {
  "kernelspec": {
   "display_name": "Python 3",
   "language": "python",
   "name": "python3"
  },
  "language_info": {
   "codemirror_mode": {
    "name": "ipython",
    "version": 3
   },
   "file_extension": ".py",
   "mimetype": "text/x-python",
   "name": "python",
   "nbconvert_exporter": "python",
   "pygments_lexer": "ipython3",
   "version": "3.8.5"
  }
 },
 "nbformat": 4,
 "nbformat_minor": 5
}
